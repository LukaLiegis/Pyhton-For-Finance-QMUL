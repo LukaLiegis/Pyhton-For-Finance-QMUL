{
 "cells": [
  {
   "cell_type": "code",
   "execution_count": 1,
   "id": "initial_id",
   "metadata": {
    "collapsed": true,
    "ExecuteTime": {
     "end_time": "2023-11-12T14:15:39.794533Z",
     "start_time": "2023-11-12T14:15:39.248446Z"
    }
   },
   "outputs": [],
   "source": [
    "import os\n",
    "\n",
    "# So we don't see deprecated warnings... when you're coding it's usually good to leave these!\n",
    "import warnings\n",
    "warnings.filterwarnings('ignore')\n",
    "\n",
    "# Disable logging messages, to make output tidier\n",
    "# import logging, sys\n",
    "# logging.disable(sys.maxsize)\n",
    "\n",
    "%matplotlib inline\n",
    "import math\n",
    "\n",
    "import pandas as pd\n",
    "import numpy as np\n",
    "\n",
    "# For plotly\n",
    "import plotly.offline as py_offline\n",
    "\n",
    "import plotly.io as pio\n",
    "pio.renderers.default = \"notebook\" # larger notebook files, but interactive plots\n",
    "# pio.renderers.default = \"svg\"\n",
    "# pio.renderers.default = \"png\" # smaller notebook files\n",
    "\n",
    "from findatapy.market import Market, MarketDataGenerator, MarketDataRequest\n",
    "from findatapy.timeseries import Calculations\n",
    "\n",
    "from chartpy import Chart, Style\n",
    "\n",
    "# note you might need to create this folder or change it!\n",
    "raw_data_path = 'raw_data/'\n",
    "\n",
    "# Either set API keys as an environment variable (preferred for security reasons) \n",
    "# or easier to just replace these below, with your own keys (if you aren't sharing your notebooks)\n",
    "try:\n",
    "    QUANDL_API_KEY = os.environ['QUANDL_API_KEY']\n",
    "    FRED_API_KEY = os.environ['FRED_API_KEY']\n",
    "    ALPHA_VANTAGE_API_KEY = os.environ['ALPHA_VANTAGE_API_KEY']\n",
    "except:\n",
    "    pass"
   ]
  },
  {
   "cell_type": "code",
   "execution_count": null,
   "outputs": [],
   "source": [],
   "metadata": {
    "collapsed": false
   },
   "id": "5401c12b88b81cc0"
  }
 ],
 "metadata": {
  "kernelspec": {
   "display_name": "Python 3",
   "language": "python",
   "name": "python3"
  },
  "language_info": {
   "codemirror_mode": {
    "name": "ipython",
    "version": 2
   },
   "file_extension": ".py",
   "mimetype": "text/x-python",
   "name": "python",
   "nbconvert_exporter": "python",
   "pygments_lexer": "ipython2",
   "version": "2.7.6"
  }
 },
 "nbformat": 4,
 "nbformat_minor": 5
}
