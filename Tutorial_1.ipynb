{
 "cells": [
  {
   "cell_type": "code",
   "execution_count": 1,
   "id": "initial_id",
   "metadata": {
    "collapsed": true,
    "ExecuteTime": {
     "end_time": "2023-11-11T12:16:38.701424Z",
     "start_time": "2023-11-11T12:16:38.698764Z"
    }
   },
   "outputs": [
    {
     "name": "stdout",
     "output_type": "stream",
     "text": [
      "hello World\n"
     ]
    }
   ],
   "source": [
    "print(\"hello World\")"
   ]
  },
  {
   "cell_type": "code",
   "execution_count": 2,
   "outputs": [
    {
     "name": "stdout",
     "output_type": "stream",
     "text": [
      "5\n"
     ]
    }
   ],
   "source": [
    "print(5)"
   ],
   "metadata": {
    "collapsed": false,
    "ExecuteTime": {
     "end_time": "2023-11-11T12:16:41.942942Z",
     "start_time": "2023-11-11T12:16:41.938018Z"
    }
   },
   "id": "2ae0408ebe8a776d"
  },
  {
   "cell_type": "code",
   "execution_count": 4,
   "outputs": [
    {
     "name": "stdout",
     "output_type": "stream",
     "text": [
      "<class 'int'>\n",
      "<class 'float'>\n",
      "<class 'str'>\n"
     ]
    }
   ],
   "source": [
    "int = 1\n",
    "float = 3.14\n",
    "string = \"burger\"\n",
    "\n",
    "print(type(int))\n",
    "print(type(float))\n",
    "print(type(string))"
   ],
   "metadata": {
    "collapsed": false,
    "ExecuteTime": {
     "end_time": "2023-11-11T12:17:39.864356Z",
     "start_time": "2023-11-11T12:17:39.859562Z"
    }
   },
   "id": "59cec826a19414d8"
  },
  {
   "cell_type": "code",
   "execution_count": 5,
   "outputs": [
    {
     "data": {
      "text/plain": "True"
     },
     "execution_count": 5,
     "metadata": {},
     "output_type": "execute_result"
    }
   ],
   "source": [
    "3>2"
   ],
   "metadata": {
    "collapsed": false,
    "ExecuteTime": {
     "end_time": "2023-11-11T12:17:50.714190Z",
     "start_time": "2023-11-11T12:17:50.706631Z"
    }
   },
   "id": "d218523abadd6031"
  },
  {
   "cell_type": "code",
   "execution_count": 6,
   "outputs": [
    {
     "data": {
      "text/plain": "False"
     },
     "execution_count": 6,
     "metadata": {},
     "output_type": "execute_result"
    }
   ],
   "source": [
    "3>3"
   ],
   "metadata": {
    "collapsed": false,
    "ExecuteTime": {
     "end_time": "2023-11-11T12:17:58.201588Z",
     "start_time": "2023-11-11T12:17:58.190845Z"
    }
   },
   "id": "6f15a79dbe3bcfd2"
  },
  {
   "cell_type": "code",
   "execution_count": 7,
   "outputs": [
    {
     "name": "stdout",
     "output_type": "stream",
     "text": [
      "100\n"
     ]
    }
   ],
   "source": [
    "print(10*10)"
   ],
   "metadata": {
    "collapsed": false,
    "ExecuteTime": {
     "end_time": "2023-11-11T12:18:08.735478Z",
     "start_time": "2023-11-11T12:18:08.723416Z"
    }
   },
   "id": "19a9310b6005b117"
  },
  {
   "cell_type": "code",
   "execution_count": 8,
   "outputs": [
    {
     "data": {
      "text/plain": "'helloworld'"
     },
     "execution_count": 8,
     "metadata": {},
     "output_type": "execute_result"
    }
   ],
   "source": [
    "\"hello\"+\"world\""
   ],
   "metadata": {
    "collapsed": false,
    "ExecuteTime": {
     "end_time": "2023-11-11T12:18:30.086794Z",
     "start_time": "2023-11-11T12:18:30.075347Z"
    }
   },
   "id": "cc56ecf94ebe7567"
  },
  {
   "cell_type": "markdown",
   "source": [
    "### Working With Lists"
   ],
   "metadata": {
    "collapsed": false
   },
   "id": "effa367678c8c693"
  },
  {
   "cell_type": "code",
   "execution_count": 32,
   "outputs": [
    {
     "name": "stdout",
     "output_type": "stream",
     "text": [
      "[1, 2, 3, 4, 5]\n"
     ]
    }
   ],
   "source": [
    "lst = list(range(1,6)) \n",
    "print(lst)"
   ],
   "metadata": {
    "collapsed": false,
    "ExecuteTime": {
     "end_time": "2023-11-11T12:27:51.620797Z",
     "start_time": "2023-11-11T12:27:51.617735Z"
    }
   },
   "id": "3f5de76693abd4a4"
  },
  {
   "cell_type": "code",
   "execution_count": 33,
   "outputs": [
    {
     "data": {
      "text/plain": "[1, 2, 3, 4, 5, 6]"
     },
     "execution_count": 33,
     "metadata": {},
     "output_type": "execute_result"
    }
   ],
   "source": [
    "lst.append(6)\n",
    "lst"
   ],
   "metadata": {
    "collapsed": false,
    "ExecuteTime": {
     "end_time": "2023-11-11T12:27:52.365016Z",
     "start_time": "2023-11-11T12:27:52.358300Z"
    }
   },
   "id": "dfef871b9aa5fed0"
  },
  {
   "cell_type": "code",
   "execution_count": 34,
   "outputs": [
    {
     "data": {
      "text/plain": "[2, 3, 4, 5, 6]"
     },
     "execution_count": 34,
     "metadata": {},
     "output_type": "execute_result"
    }
   ],
   "source": [
    "lst = lst[1:]\n",
    "lst"
   ],
   "metadata": {
    "collapsed": false,
    "ExecuteTime": {
     "end_time": "2023-11-11T12:27:53.141796Z",
     "start_time": "2023-11-11T12:27:53.137776Z"
    }
   },
   "id": "d6a380874645ae7b"
  },
  {
   "cell_type": "code",
   "execution_count": 21,
   "outputs": [
    {
     "data": {
      "text/plain": "[1, 2, 3, 4, 5, 6, 6]"
     },
     "execution_count": 21,
     "metadata": {},
     "output_type": "execute_result"
    }
   ],
   "source": [
    "lst"
   ],
   "metadata": {
    "collapsed": false,
    "ExecuteTime": {
     "end_time": "2023-11-11T12:20:53.457059Z",
     "start_time": "2023-11-11T12:20:53.449148Z"
    }
   },
   "id": "ab8368aedcede651"
  },
  {
   "cell_type": "markdown",
   "source": [
    "### Working With Dictionaries"
   ],
   "metadata": {
    "collapsed": false
   },
   "id": "b5917916691ed615"
  },
  {
   "cell_type": "code",
   "execution_count": 36,
   "outputs": [
    {
     "data": {
      "text/plain": "{'Lennon': 'John', 'McCartney': 'Paul', 'Harrison': 'George', 'Starr': 'Ringo'}"
     },
     "execution_count": 36,
     "metadata": {},
     "output_type": "execute_result"
    }
   ],
   "source": [
    "beatles = {\"Lennon\": \"John\", \"McCartney\": \"Paul\", \"Harrison\": \"George\", \"Starr\": \"Ringo\"}\n",
    "beatles"
   ],
   "metadata": {
    "collapsed": false,
    "ExecuteTime": {
     "end_time": "2023-11-11T12:33:31.987543Z",
     "start_time": "2023-11-11T12:33:31.980715Z"
    }
   },
   "id": "f5376d640be72d31"
  },
  {
   "cell_type": "code",
   "execution_count": 39,
   "outputs": [
    {
     "data": {
      "text/plain": "dict_keys(['Lennon', 'McCartney', 'Harrison', 'Starr'])"
     },
     "execution_count": 39,
     "metadata": {},
     "output_type": "execute_result"
    }
   ],
   "source": [
    "# Print all the keys\n",
    "beatles.keys()"
   ],
   "metadata": {
    "collapsed": false,
    "ExecuteTime": {
     "end_time": "2023-11-11T12:34:12.447261Z",
     "start_time": "2023-11-11T12:34:12.440104Z"
    }
   },
   "id": "8fe597c82b6e4d36"
  },
  {
   "cell_type": "code",
   "execution_count": 40,
   "outputs": [
    {
     "data": {
      "text/plain": "dict_values(['John', 'Paul', 'George', 'Ringo'])"
     },
     "execution_count": 40,
     "metadata": {},
     "output_type": "execute_result"
    }
   ],
   "source": [
    "# Print all the values\n",
    "beatles.values()"
   ],
   "metadata": {
    "collapsed": false,
    "ExecuteTime": {
     "end_time": "2023-11-11T12:34:13.432170Z",
     "start_time": "2023-11-11T12:34:13.426539Z"
    }
   },
   "id": "988768cf85551208"
  },
  {
   "cell_type": "markdown",
   "source": [
    "### Conditionals and Loops"
   ],
   "metadata": {
    "collapsed": false
   },
   "id": "1952c7354fd30d20"
  },
  {
   "cell_type": "code",
   "execution_count": 42,
   "outputs": [
    {
     "name": "stdout",
     "output_type": "stream",
     "text": [
      "Hello world and a pause !\n",
      "Hello world and a pause !\n",
      "Hello world and a pause !\n",
      "Hello world and a pause !\n",
      "Hello world and a pause !\n",
      "Hello world and a pause !\n",
      "Hello world and a pause !\n",
      "Hello world and a pause !\n",
      "Hello world and a pause !\n",
      "Hello world and a pause !\n"
     ]
    }
   ],
   "source": [
    "import time\n",
    "\n",
    "for i in range(0,10):\n",
    "    print(\"Hello world and a pause !\")\n",
    "    \n",
    "    time.sleep(1)"
   ],
   "metadata": {
    "collapsed": false,
    "ExecuteTime": {
     "end_time": "2023-11-11T12:37:20.337655Z",
     "start_time": "2023-11-11T12:37:10.286656Z"
    }
   },
   "id": "806002bce8aa4367"
  },
  {
   "cell_type": "code",
   "execution_count": 43,
   "outputs": [
    {
     "name": "stdout",
     "output_type": "stream",
     "text": [
      "1\n",
      "2\n",
      "3\n"
     ]
    }
   ],
   "source": [
    "list = [1, 2, 3]\n",
    "\n",
    "for i in list:\n",
    "    print(i)"
   ],
   "metadata": {
    "collapsed": false,
    "ExecuteTime": {
     "end_time": "2023-11-11T12:37:52.934278Z",
     "start_time": "2023-11-11T12:37:52.925335Z"
    }
   },
   "id": "92ab11549ce23a4"
  },
  {
   "cell_type": "code",
   "execution_count": 23,
   "outputs": [
    {
     "name": "stdout",
     "output_type": "stream",
     "text": [
      "True\n"
     ]
    }
   ],
   "source": [
    "a = 10; b = 5\n",
    "\n",
    "if a > b:\n",
    "    print(\"True\")"
   ],
   "metadata": {
    "collapsed": false,
    "ExecuteTime": {
     "end_time": "2023-11-11T12:23:51.228413Z",
     "start_time": "2023-11-11T12:23:51.223029Z"
    }
   },
   "id": "6dc9a9ccec1528c6"
  },
  {
   "cell_type": "markdown",
   "source": [
    "### Basic Functions"
   ],
   "metadata": {
    "collapsed": false
   },
   "id": "1288871afdcd57cf"
  },
  {
   "cell_type": "code",
   "execution_count": 25,
   "outputs": [],
   "source": [
    "def multiplication(a,b):\n",
    "    mult = a*b\n",
    "    return mult"
   ],
   "metadata": {
    "collapsed": false,
    "ExecuteTime": {
     "end_time": "2023-11-11T12:25:23.785076Z",
     "start_time": "2023-11-11T12:25:23.778155Z"
    }
   },
   "id": "ec2eb9b32347103b"
  },
  {
   "cell_type": "code",
   "execution_count": 26,
   "outputs": [
    {
     "data": {
      "text/plain": "6"
     },
     "execution_count": 26,
     "metadata": {},
     "output_type": "execute_result"
    }
   ],
   "source": [
    "multiplication(3, 2)"
   ],
   "metadata": {
    "collapsed": false,
    "ExecuteTime": {
     "end_time": "2023-11-11T12:25:30.686678Z",
     "start_time": "2023-11-11T12:25:30.674773Z"
    }
   },
   "id": "8a67634ed384d56f"
  },
  {
   "cell_type": "code",
   "execution_count": 44,
   "outputs": [],
   "source": [
    "def print_first_and_last(lst):\n",
    "    print(\"...\")\n",
    "    \n",
    "    if len(lst) == 0:\n",
    "        print(\"List is empty\")\n",
    "    elif len(lst) == 1:\n",
    "        print(lst[0])\n",
    "    else:\n",
    "        print(lst[0])\n",
    "        print(lst[-1])"
   ],
   "metadata": {
    "collapsed": false,
    "ExecuteTime": {
     "end_time": "2023-11-11T12:42:58.278214Z",
     "start_time": "2023-11-11T12:42:58.261414Z"
    }
   },
   "id": "cae718165fed369e"
  },
  {
   "cell_type": "code",
   "execution_count": 45,
   "outputs": [
    {
     "name": "stdout",
     "output_type": "stream",
     "text": [
      "...\n",
      "0\n",
      "...\n",
      "0\n",
      "2\n",
      "...\n",
      "List is empty\n"
     ]
    }
   ],
   "source": [
    "print_first_and_last([0])\n",
    "print_first_and_last([0, 2])\n",
    "print_first_and_last([])"
   ],
   "metadata": {
    "collapsed": false,
    "ExecuteTime": {
     "end_time": "2023-11-11T12:43:19.435526Z",
     "start_time": "2023-11-11T12:43:19.416325Z"
    }
   },
   "id": "8074d70848ed20b7"
  },
  {
   "cell_type": "markdown",
   "source": [
    "### Writing simple function to do a mathematical operation"
   ],
   "metadata": {
    "collapsed": false
   },
   "id": "492207e97faa19fa"
  },
  {
   "cell_type": "code",
   "execution_count": 46,
   "outputs": [
    {
     "data": {
      "text/plain": "120"
     },
     "execution_count": 46,
     "metadata": {},
     "output_type": "execute_result"
    }
   ],
   "source": [
    "def factorial_it(n):\n",
    "    factorial = 1\n",
    "    \n",
    "    for i in range(1, n+1):\n",
    "        factorial = factorial * i\n",
    "        \n",
    "    return factorial\n",
    "\n",
    "factorial_it(5)"
   ],
   "metadata": {
    "collapsed": false,
    "ExecuteTime": {
     "end_time": "2023-11-11T12:49:57.001862Z",
     "start_time": "2023-11-11T12:49:56.992398Z"
    }
   },
   "id": "12388e24f9b5d729"
  },
  {
   "cell_type": "code",
   "execution_count": 47,
   "outputs": [
    {
     "data": {
      "text/plain": "120"
     },
     "execution_count": 47,
     "metadata": {},
     "output_type": "execute_result"
    }
   ],
   "source": [
    "def factorial_rec(n):\n",
    "    if n==1: \n",
    "        return n\n",
    "    \n",
    "    return n * factorial_rec(n - 1)\n",
    "\n",
    "factorial_rec(5)"
   ],
   "metadata": {
    "collapsed": false,
    "ExecuteTime": {
     "end_time": "2023-11-11T12:51:22.680071Z",
     "start_time": "2023-11-11T12:51:22.672629Z"
    }
   },
   "id": "fcdd011273951c0f"
  },
  {
   "cell_type": "code",
   "execution_count": null,
   "outputs": [],
   "source": [],
   "metadata": {
    "collapsed": false
   },
   "id": "2d98cfb0a8c72f5f"
  }
 ],
 "metadata": {
  "kernelspec": {
   "display_name": "Python 3",
   "language": "python",
   "name": "python3"
  },
  "language_info": {
   "codemirror_mode": {
    "name": "ipython",
    "version": 2
   },
   "file_extension": ".py",
   "mimetype": "text/x-python",
   "name": "python",
   "nbconvert_exporter": "python",
   "pygments_lexer": "ipython2",
   "version": "2.7.6"
  }
 },
 "nbformat": 4,
 "nbformat_minor": 5
}
